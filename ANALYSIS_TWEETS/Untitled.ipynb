{
 "cells": [
  {
   "cell_type": "code",
   "execution_count": 2,
   "metadata": {
    "collapsed": false
   },
   "outputs": [
    {
     "name": "stdout",
     "output_type": "stream",
     "text": [
      "(183, 'oyaoreworld', 'An Open Letter To Safaricom CEO - Bob Collymore |The Elements Within https://t.co/nbbe1UT9vM @bobcollymore @Safaricom_Care #customerfeedback')\n",
      "(572, 'C_NyaKundiH', 'RT @C_NyaKundiH: OPEN LETTER: Customer Elaborates How Safaricom Is Robbing Customer’s Airtime https://t.co/fWAxncK8BB via… ')\n",
      "(597, 'ItsDemoray', 'OPEN LETTER: Customer Elaborates How Safaricom Is Robbing Customer’s Airtime https://t.co/dVgx6ebrEX')\n",
      "(598, 'BornfaceKimath5', 'RT @C_NyaKundiH: OPEN LETTER: Customer Elaborates How Safaricom Is Robbing Customer’s Airtime https://t.co/fWAxncK8BB via… ')\n",
      "(602, 'FranklinKioko', 'RT @ItsDemoray: OPEN LETTER: Customer Elaborates How Safaricom Is Robbing Customer’s Airtime https://t.co/dVgx6ebrEX')\n",
      "(603, '_Oteraw', 'RT @ItsDemoray: OPEN LETTER: Customer Elaborates How Safaricom Is Robbing Customer’s Airtime https://t.co/dVgx6ebrEX')\n",
      "(659, 'shiro_mageria', 'RT @C_NyaKundiH: OPEN LETTER: Customer Elaborates How Safaricom Is Robbing Customer’s Airtime https://t.co/fWAxncK8BB via… ')\n",
      "(661, 'bryanmkenya', 'RT @C_NyaKundiH: OPEN LETTER: Customer Elaborates How Safaricom Is Robbing Customer’s Airtime https://t.co/fWAxncK8BB via… ')\n",
      "(683, 'mlikonarre', 'OPEN LETTER: Customer Elaborates How Safaricom Is Robbing Customer’s Airtime https://t.co/6GYWdffI6A via @C_NyakundiH')\n"
     ]
    }
   ],
   "source": [
    "# %load information_leakage.py\n",
    "import time\n",
    "import sqlite3\n",
    "import time\n",
    "import urllib.request, urllib.parse, urllib.error\n",
    "import zlib\n",
    "import string\n",
    "\n",
    "conn = sqlite3.connect('smm_sentiproject.sqlite')\n",
    "conn.text_factory = str\n",
    "cur = conn.cursor()\n",
    "\n",
    "#OPEN LETTER CONTROVERSY\n",
    "cur.execute('SELECT id,username,tweet FROM safaricom WHERE tweet LIKE \"%OPEN LETTER%\"')\n",
    "subjects = []\n",
    "for message_row in cur :\n",
    "        print (message_row)\n",
    "    \n"
   ]
  },
  {
   "cell_type": "code",
   "execution_count": null,
   "metadata": {
    "collapsed": true
   },
   "outputs": [],
   "source": []
  },
  {
   "cell_type": "code",
   "execution_count": null,
   "metadata": {
    "collapsed": true
   },
   "outputs": [],
   "source": []
  }
 ],
 "metadata": {
  "anaconda-cloud": {},
  "kernelspec": {
   "display_name": "Python [conda root]",
   "language": "python",
   "name": "conda-root-py"
  },
  "language_info": {
   "codemirror_mode": {
    "name": "ipython",
    "version": 3
   },
   "file_extension": ".py",
   "mimetype": "text/x-python",
   "name": "python",
   "nbconvert_exporter": "python",
   "pygments_lexer": "ipython3",
   "version": "3.5.2"
  }
 },
 "nbformat": 4,
 "nbformat_minor": 1
}
